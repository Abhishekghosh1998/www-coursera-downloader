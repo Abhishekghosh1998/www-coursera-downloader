{
 "cells": [
  {
   "cell_type": "markdown",
   "metadata": {},
   "source": [
    "# WWW-COURSERA-DOWNLOADER\n",
    "\n",
    "Originally created by Jansen Simanullang, 2018.\n",
    "\n",
    "My previous version of `www-coursera-downloader` dated back from 2016 is no longer working.\n",
    "\n",
    "Sorry for the frustation of many people who have download my previous `www-coursera-downloader` and cannot use it.\n"
   ]
  },
  {
   "cell_type": "markdown",
   "metadata": {},
   "source": [
    "## A. Requirements"
   ]
  },
  {
   "cell_type": "markdown",
   "metadata": {},
   "source": [
    "### (1) Install Geckodriver\n",
    "Install Geckodriver from : https://github.com/mozilla/geckodriver/releases/"
   ]
  },
  {
   "cell_type": "markdown",
   "metadata": {},
   "source": [
    "#### Check Geckodriver version"
   ]
  },
  {
   "cell_type": "code",
   "execution_count": null,
   "metadata": {},
   "outputs": [],
   "source": [
    "!echo == GECKODRIVER ==:\n",
    "!geckodriver --version"
   ]
  },
  {
   "cell_type": "markdown",
   "metadata": {},
   "source": [
    "### (2) Install Some Python Packages"
   ]
  },
  {
   "cell_type": "code",
   "execution_count": 104,
   "metadata": {},
   "outputs": [
    {
     "name": "stdout",
     "output_type": "stream",
     "text": [
      "Enabling notebook extension python-markdown/main...\r\n",
      "      - Validating: \u001b[32mOK\u001b[0m\r\n"
     ]
    }
   ],
   "source": [
    "!pip install -q bs4 pillow splinter jupyter_contrib_nbextensions\n",
    "!jupyter nbextension enable python-markdown/main"
   ]
  },
  {
   "cell_type": "code",
   "execution_count": null,
   "metadata": {},
   "outputs": [],
   "source": [
    "from splinter import Browser\n",
    "import base64, os, sys, requests, time\n",
    "from bs4 import BeautifulSoup"
   ]
  },
  {
   "cell_type": "markdown",
   "metadata": {},
   "source": [
    "## B. Definitions"
   ]
  },
  {
   "cell_type": "markdown",
   "metadata": {},
   "source": [
    "### B. 1 Some constants"
   ]
  },
  {
   "cell_type": "code",
   "execution_count": null,
   "metadata": {},
   "outputs": [],
   "source": [
    "# adjust loading+time to your network speed~!\n",
    "loading_time = 10"
   ]
  },
  {
   "cell_type": "code",
   "execution_count": null,
   "metadata": {},
   "outputs": [],
   "source": [
    "homepage='https://www.coursera.org'"
   ]
  },
  {
   "cell_type": "code",
   "execution_count": null,
   "metadata": {},
   "outputs": [],
   "source": [
    "resolution = {'low':'360','med':'540','hi':'720'}\n",
    "# adjust chosen_res to your liking\n",
    "chosen_res = 'hi'"
   ]
  },
  {
   "cell_type": "markdown",
   "metadata": {},
   "source": [
    "### B.2 Helper Function "
   ]
  },
  {
   "cell_type": "code",
   "execution_count": null,
   "metadata": {},
   "outputs": [],
   "source": [
    "def screenshot():\n",
    "    browser.driver.save_screenshot('screenshot.png')\n",
    "    from PIL import Image\n",
    "    return Image.open('screenshot.png')"
   ]
  },
  {
   "cell_type": "code",
   "execution_count": null,
   "metadata": {},
   "outputs": [],
   "source": [
    "\n",
    "def encode_cjson(text):\n",
    "    return base64.b64encode(bytes(str(text), \"utf-8\"))\n",
    "\n",
    "def save_cjson(text):\n",
    "    text = encode_cjson(text)\n",
    "    with open('coursera.json','wb+') as f:\n",
    "        f.write(bytes(str(text),\"utf-8\"))\n",
    "    f.close()\n",
    "\n",
    "def read_cjson():\n",
    "    import os\n",
    "    if os.path.isfile('coursera.json'):\n",
    "        with open('coursera.json','rb') as f:\n",
    "            a = f.read()\n",
    "        f.close()\n",
    "    else:\n",
    "        print('credential file not found')\n",
    "    return str(a).split(\"'\")[1]\n",
    "\n",
    "def decode_cjson(text):\n",
    "    return str(base64.b64decode(text)).split(\"'\")[1]\n",
    "\n",
    "def get_cjson():\n",
    "    import json\n",
    "    text = read_cjson()\n",
    "    \n",
    "    uid = json.loads(decode_cjson(text))\n",
    "    return uid\n",
    "\n",
    "def remove_cjson():\n",
    "    import os\n",
    "    if os.path.isfile('coursera.json'):\n",
    "        os.remove('coursera.json')\n",
    "\n",
    "def get_credential():\n",
    "    import getpass, os\n",
    "    if os.path.isfile('coursera.json'):\n",
    "        username = get_cjson()['user']\n",
    "        password = get_cjson()['password']\n",
    "    else:\n",
    "        username = input('User Name:')\n",
    "        password = getpass.getpass('Password:')\n",
    "        text = '{\"user\":\"'+username+'\", \"password\":\"'+password+'\"}'\n",
    "        save_cjson(text)\n",
    "        \n",
    "    return username, password\n",
    "\n",
    "def remove_credential():\n",
    "    remove_cjson()\n",
    "    print('credential removed...')\n",
    "    return\n",
    "\n",
    "def reset_credential():\n",
    "    remove_cjson()\n",
    "    username, password = get_credential()\n",
    "    return username, password"
   ]
  },
  {
   "cell_type": "code",
   "execution_count": null,
   "metadata": {},
   "outputs": [],
   "source": [
    "def get_mp4_url(lesson_url):\n",
    "    browser.visit(homepage+lesson_url)\n",
    "    print('video playing will be paused in ' + str(loading_time) + ' seconds...')\n",
    "    time.sleep(loading_time)\n",
    "    try:\n",
    "        browser.find_by_css('span.cif-2x.cif-fw.cif-pause').click()\n",
    "    except:\n",
    "        time.sleep(loading_time)\n",
    "        try:\n",
    "            browser.find_by_css('span.cif-2x.cif-fw.cif-pause').click()\n",
    "        except:\n",
    "            pass\n",
    "        pass\n",
    "    mp4 = browser.find_by_tag('video').find_by_tag('source')['src']\n",
    "    mp4 = mp4.replace('360p/',resolution[chosen_res]+'p/')\n",
    "    return mp4"
   ]
  },
  {
   "cell_type": "code",
   "execution_count": null,
   "metadata": {},
   "outputs": [],
   "source": [
    "def mp4_downloader(lesson_id, lesson_title, lesson_url):\n",
    "    \n",
    "    mp4 = get_mp4_url(lesson_url)\n",
    "    file_name = lesson_id +'-'+ lesson_title + '.mp4'\n",
    "\n",
    "    downloaded_size = 0\n",
    "    buffer_size = 1024\n",
    "\n",
    "    print('requesting to download...')\n",
    "    r = requests.get(mp4)\n",
    "    content_length = r.headers['Content-Length']\n",
    "    download_size = int(content_length)\n",
    "    file_exists = os.path.isfile(file_name)\n",
    "    \n",
    "    if file_exists:\n",
    "        \n",
    "        if os.path.getsize(file_name) == download_size:\n",
    "            print('file already downloaded.')\n",
    "            \n",
    "    elif not file_exists:\n",
    "        \n",
    "        if r.status_code == 200:\n",
    "            f = open(file_name, 'wb')\n",
    "            for buffer in r.iter_content(buffer_size):\n",
    "                f.write(buffer)\n",
    "                downloaded_size += buffer_size\n",
    "                status='\\rdownloading...' + file_name + '>>> '\n",
    "                status = status +str(\"{:.2f}\".format(downloaded_size * 100. /download_size))+'%'\n",
    "                sys.stdout.write(status)\n",
    "                sys.stdout.flush()\n",
    "            f.close()\n",
    "        else:\n",
    "            print('please check your connection..')\n",
    "    "
   ]
  },
  {
   "cell_type": "markdown",
   "metadata": {},
   "source": [
    "## C. Coursera\n",
    "\n",
    "### Login Page"
   ]
  },
  {
   "cell_type": "code",
   "execution_count": null,
   "metadata": {},
   "outputs": [],
   "source": [
    "browser = Browser('firefox', headless = True)"
   ]
  },
  {
   "cell_type": "code",
   "execution_count": null,
   "metadata": {},
   "outputs": [],
   "source": [
    "browser.visit('https://www.coursera.org/?authMode=login')\n",
    "screenshot()"
   ]
  },
  {
   "cell_type": "markdown",
   "metadata": {},
   "source": [
    "### Insert Login Credential"
   ]
  },
  {
   "cell_type": "code",
   "execution_count": null,
   "metadata": {},
   "outputs": [],
   "source": [
    "#reset_credential() #uncomment to reset \n",
    "username, password = get_credential()"
   ]
  },
  {
   "cell_type": "code",
   "execution_count": null,
   "metadata": {},
   "outputs": [],
   "source": [
    "browser.visit('https://www.coursera.org/courses?authMode=login')"
   ]
  },
  {
   "cell_type": "code",
   "execution_count": null,
   "metadata": {},
   "outputs": [],
   "source": [
    "browser.fill('email', username)\n",
    "browser.fill('password', password)"
   ]
  },
  {
   "cell_type": "code",
   "execution_count": null,
   "metadata": {},
   "outputs": [],
   "source": [
    "screenshot()"
   ]
  },
  {
   "cell_type": "code",
   "execution_count": null,
   "metadata": {},
   "outputs": [],
   "source": [
    "buttons = browser.find_by_tag('button')\n",
    "for button in buttons:\n",
    "    if (button.text == 'Log in'):\n",
    "        button.click()\n",
    "        break\n",
    "screenshot()"
   ]
  },
  {
   "cell_type": "markdown",
   "metadata": {},
   "source": [
    "### LAST ACTIVE COURSES"
   ]
  },
  {
   "cell_type": "code",
   "execution_count": null,
   "metadata": {},
   "outputs": [],
   "source": [
    "browser.visit(homepage)\n",
    "section = browser.find_by_tag('section')\n",
    "titles = []\n",
    "\n",
    "for s in section:\n",
    "    title = s.find_by_tag('h4').text\n",
    "    titles.append(title)\n",
    "    \n",
    "for i, title in enumerate(titles):\n",
    "    print(i+1, title)"
   ]
  },
  {
   "cell_type": "code",
   "execution_count": null,
   "metadata": {},
   "outputs": [],
   "source": [
    "screenshot()"
   ]
  },
  {
   "cell_type": "markdown",
   "metadata": {
    "variables": {
     "len(titles)": "13"
    }
   },
   "source": [
    "There are {{len(titles)}} courses visible in this section you can pick to download."
   ]
  },
  {
   "cell_type": "markdown",
   "metadata": {},
   "source": [
    "### PICK ONE OF THE COURSES and edit here"
   ]
  },
  {
   "cell_type": "code",
   "execution_count": null,
   "metadata": {},
   "outputs": [],
   "source": [
    "# Pick one of the courses by number\n",
    "#  chosen_course = int(input('Pick one of the courses by number'))\n",
    "chosen_course = 1 #<--- edit here \n",
    "section[chosen_course-1].click()\n",
    "course_title = titles[chosen_course-1]"
   ]
  },
  {
   "cell_type": "markdown",
   "metadata": {
    "variables": {
     " titles[chosen_course-1] ": "Control of Mobile Robots",
     "-titles[chosen_course-1]-": "<p><strong>SyntaxError</strong>: invalid syntax (<ipython-input-22-f2678fc1f121>, line 1)</p>\n"
    }
   },
   "source": [
    " ### {{ titles[chosen_course-1] }}"
   ]
  },
  {
   "cell_type": "code",
   "execution_count": null,
   "metadata": {},
   "outputs": [],
   "source": [
    "screenshot()"
   ]
  },
  {
   "cell_type": "code",
   "execution_count": null,
   "metadata": {},
   "outputs": [],
   "source": [
    "lecture_homepage = browser.driver.current_url"
   ]
  },
  {
   "cell_type": "code",
   "execution_count": null,
   "metadata": {},
   "outputs": [],
   "source": [
    "week = browser.find_by_css('div.rc-WeekCollectionNavigationItem > div')\n",
    "anchors = BeautifulSoup(week.html, 'lxml').findAll('a', attrs={})\n",
    "weeks = []\n",
    "for a in anchors:\n",
    "    weeks.append(a['href'])\n",
    "\n",
    "weeks, len(weeks)"
   ]
  },
  {
   "cell_type": "code",
   "execution_count": null,
   "metadata": {},
   "outputs": [],
   "source": [
    "lessons_i = []\n",
    "lessons_t = []\n",
    "lessons_u = []\n",
    "    \n",
    "for w in range(len(weeks)):\n",
    "    \n",
    "    print('collecting lessons title and urls...\\n')    \n",
    "    browser.visit(homepage + weeks[w])\n",
    "    \n",
    "    w = w+1\n",
    "    \n",
    "    print('\\nVisiting week: ' + str(w))\n",
    "    time.sleep(loading_time)\n",
    "    module_lessons = browser.find_by_css('div.rc-ModuleLessons')\n",
    "    \n",
    "    print()    \n",
    "    print('Week '+str(w)+' titles:')\n",
    "    lessons_title = module_lessons.find_by_tag('h5')\n",
    "    for j, l in enumerate(lessons_title):\n",
    "        lesson_id = str(w*100+j+1).zfill(3)\n",
    "        title = l.text.replace('\\n',' ')\n",
    "        print(lesson_id, title)\n",
    "        lessons_t.append(title)\n",
    "        lessons_i.append(lesson_id)\n",
    "    \n",
    "    print()    \n",
    "    print('Week '+str(w)+' links:')    \n",
    "    lessons_url = module_lessons.find_by_tag('ul')\n",
    "    anchors = BeautifulSoup(lessons_url.html, 'lxml').findAll('a')\n",
    "\n",
    "    for j, a in enumerate(anchors):\n",
    "        lesson_id = str(w*100+j+1).zfill(3)\n",
    "        lesson_url = a['href']\n",
    "        print(lesson_id, lesson_url)\n",
    "        lessons_u.append(a['href'])\n",
    "        \n",
    "    print()"
   ]
  },
  {
   "cell_type": "markdown",
   "metadata": {},
   "source": [
    "### Download Only Videos"
   ]
  },
  {
   "cell_type": "code",
   "execution_count": null,
   "metadata": {},
   "outputs": [],
   "source": [
    "lessons = zip(lessons_i, lessons_t, lessons_u)\n",
    "for a,b,c in lessons:\n",
    "    print(a,b)\n",
    "    if 'Lecture' in b.split(' ')[0]:\n",
    "        mp4_downloader(a,b,c)\n",
    "    else:\n",
    "        print('no video to download.')\n",
    "    print()"
   ]
  },
  {
   "cell_type": "markdown",
   "metadata": {},
   "source": [
    "## Screenshot Checking\n",
    "\n",
    "In case of an error, you may want to check the screenshot. Here is an example:"
   ]
  },
  {
   "cell_type": "code",
   "execution_count": null,
   "metadata": {},
   "outputs": [],
   "source": [
    "screenshot()"
   ]
  },
  {
   "cell_type": "markdown",
   "metadata": {},
   "source": [
    "## Manually Calling `mp4_downloader`\n",
    "\n",
    "In case you need to manually call `mp4_downloader` here is an example:"
   ]
  },
  {
   "cell_type": "markdown",
   "metadata": {},
   "source": [
    "```\n",
    "mp4_downloader('201',\n",
    "               'Lecture Driving Robots Around?', \n",
    "               '/learn/mobile-robot/lecture/4HvCW/driving-robots-around')\n",
    "````\n",
    "`201` means week `2` lecture `01`"
   ]
  },
  {
   "cell_type": "markdown",
   "metadata": {},
   "source": [
    "## Close Browser After Download"
   ]
  },
  {
   "cell_type": "code",
   "execution_count": null,
   "metadata": {},
   "outputs": [],
   "source": [
    "browser.quit()"
   ]
  },
  {
   "cell_type": "code",
   "execution_count": null,
   "metadata": {},
   "outputs": [],
   "source": []
  }
 ],
 "metadata": {
  "kernelspec": {
   "display_name": "Python 3",
   "language": "python",
   "name": "python3"
  },
  "language_info": {
   "codemirror_mode": {
    "name": "ipython",
    "version": 3
   },
   "file_extension": ".py",
   "mimetype": "text/x-python",
   "name": "python",
   "nbconvert_exporter": "python",
   "pygments_lexer": "ipython3",
   "version": "3.6.4"
  }
 },
 "nbformat": 4,
 "nbformat_minor": 2
}
