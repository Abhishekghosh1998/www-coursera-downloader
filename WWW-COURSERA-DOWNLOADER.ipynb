{
 "cells": [
  {
   "cell_type": "markdown",
   "metadata": {},
   "source": [
    "# www-coursera-downloader \n",
    "- this release: 20160625\n",
    "- added feature: quiz downloader\n",
    "\n",
    "(c) Jansen Simanullang, 2016-2018."
   ]
  },
  {
   "cell_type": "markdown",
   "metadata": {},
   "source": [
    "## A. Requirements"
   ]
  },
  {
   "cell_type": "markdown",
   "metadata": {},
   "source": [
    "### (1) Install Geckodriver\n",
    "Install Geckodriver from : https://github.com/mozilla/geckodriver/releases/"
   ]
  },
  {
   "cell_type": "markdown",
   "metadata": {},
   "source": [
    "#### Check Geckodriver version"
   ]
  },
  {
   "cell_type": "code",
   "execution_count": null,
   "metadata": {},
   "outputs": [],
   "source": [
    "!echo Checking geckodriver version...\n",
    "!geckodriver --version"
   ]
  },
  {
   "cell_type": "markdown",
   "metadata": {},
   "source": [
    "### (2) Install Some Python Packages"
   ]
  },
  {
   "cell_type": "code",
   "execution_count": null,
   "metadata": {},
   "outputs": [],
   "source": [
    "!pip install -q bs4 jupyter_contrib_nbextensions pillow splinter\n",
    "!jupyter nbextension enable python-markdown/main"
   ]
  },
  {
   "cell_type": "code",
   "execution_count": null,
   "metadata": {},
   "outputs": [],
   "source": [
    "from splinter import Browser\n",
    "import base64, getpass, json, os, re, requests, sys, time\n",
    "from bs4 import BeautifulSoup"
   ]
  },
  {
   "cell_type": "markdown",
   "metadata": {},
   "source": [
    "## B. Definitions"
   ]
  },
  {
   "cell_type": "markdown",
   "metadata": {},
   "source": [
    "### B. 1 Some constants"
   ]
  },
  {
   "cell_type": "code",
   "execution_count": null,
   "metadata": {},
   "outputs": [],
   "source": [
    "# LOADING TIME\n",
    "# WARNING: this will impact your user experience!\n",
    "# adjust loading time according to your network speed!\n",
    "# loading time in seconds\n",
    "\n",
    "loading_time = 5\n",
    "\n",
    "# HOMEPAGE\n",
    "homepage='https://www.coursera.org'\n",
    "\n",
    "# VIDEO RESOLUTION\n",
    "# available resolution:\n",
    "# 'hi', 'low' or 'med'\n",
    "# choose according to your preference\n",
    "resolution = {'low':'360','med':'540','hi':'720'}\n",
    "chosen_res = 'hi'\n",
    "\n",
    "# INITIAL DIRECTORY\n",
    "initial_dirname = os.getcwd()"
   ]
  },
  {
   "cell_type": "markdown",
   "metadata": {},
   "source": [
    "### B.2 Helper Functions"
   ]
  },
  {
   "cell_type": "code",
   "execution_count": null,
   "metadata": {},
   "outputs": [],
   "source": [
    "def safe_text(str_text):\n",
    "    erasable = [':','/']\n",
    "    for e in erasable:   \n",
    "        str_text = str_text.replace(e, ' ')  \n",
    "    while '  ' in str_text:\n",
    "        str_text = str_text.replace('  ',' ')\n",
    "    return str_text\n",
    "\n",
    "def create_download_dir(dirname):\n",
    "    \n",
    "    dirname = safe_text(dirname)\n",
    "    \n",
    "    try:\n",
    "        os.mkdir(dirname)\n",
    "    except:\n",
    "        pass\n",
    "    \n",
    "    os.chdir(dirname)\n",
    "    print(os.getcwd())\n",
    "\n",
    "# SCREENSHOT\n",
    "def screenshot():\n",
    "    browser.driver.save_screenshot('screenshot.png')\n",
    "    from PIL import Image\n",
    "    return Image.open('screenshot.png')\n",
    "\n",
    "# cjson helper functions\n",
    "\n",
    "def encode_cjson(text):\n",
    "    return base64.b64encode(bytes(str(text), \"utf-8\"))\n",
    "\n",
    "def save_cjson(text):\n",
    "    text = encode_cjson(text)\n",
    "    with open('coursera.json','wb+') as f:\n",
    "        f.write(bytes(str(text),\"utf-8\"))\n",
    "    f.close()\n",
    "\n",
    "def read_cjson():\n",
    "    \n",
    "    if os.path.isfile('coursera.json'):\n",
    "        with open('coursera.json','rb') as f:\n",
    "            a = f.read()\n",
    "        f.close()\n",
    "    else:\n",
    "        print('credential file not found')\n",
    "    return str(a).split(\"'\")[1]\n",
    "\n",
    "def decode_cjson(text):\n",
    "    return str(base64.b64decode(text)).split(\"'\")[1]\n",
    "\n",
    "def get_cjson():\n",
    "\n",
    "    text = read_cjson()\n",
    "    \n",
    "    uid = json.loads(decode_cjson(text))\n",
    "    return uid\n",
    "\n",
    "def remove_cjson():\n",
    "    \n",
    "    if os.path.isfile('coursera.json'):\n",
    "        os.remove('coursera.json')\n",
    "\n",
    "def get_credential():\n",
    "\n",
    "    if os.path.isfile('coursera.json'):\n",
    "        username = get_cjson()['user']\n",
    "        password = get_cjson()['password']\n",
    "    else:\n",
    "        username = input('User Name:')\n",
    "        password = getpass.getpass('Password:')\n",
    "        text = '{\"user\":\"'+username+'\", \"password\":\"'+password+'\"}'\n",
    "        save_cjson(text)\n",
    "        \n",
    "    return username, password\n",
    "\n",
    "def remove_credential():\n",
    "    remove_cjson()\n",
    "    print('credential removed...')\n",
    "    return\n",
    "\n",
    "def reset_credential():\n",
    "    remove_cjson()\n",
    "    username, password = get_credential()\n",
    "    return username, password\n",
    "\n",
    "# vtt file conversion\n",
    "\n",
    "def read_text_file(file_name):\n",
    "    f = open(file_name, \"r\")\n",
    "    print(\"vtt file being converted to srt: \" + file_name + \"\\n\")  \n",
    "    return f.read()\n",
    "\n",
    "def file_create(file_name, str_data):\n",
    "    try:  \n",
    "        f = open(file_name, \"w\")\n",
    "        f.writelines(str(str_data))\n",
    "        f.close()\n",
    "    except IOError:        \n",
    "        file_name = file_name.split(os.sep)[-1]\n",
    "        f = open(file_name, \"w\")\n",
    "        f.writelines(str(str_data))\n",
    "        f.close()\n",
    "    print(\"file created: \" + file_name + \"\\n\")\n",
    "    \n",
    "def convert_content(file_contents):\n",
    "    replacement = re.sub(r'([\\d]+)\\.([\\d]+)', r'\\1,\\2', file_contents)\n",
    "    replacement = re.sub(r'WEBVTT\\n\\n', '', replacement)\n",
    "    replacement = re.sub(r'^\\d+\\n', '', replacement)\n",
    "    replacement = re.sub(r'\\n\\d+\\n', '\\n', replacement)\n",
    "    return replacement\n",
    "\n",
    "def vtt_to_srt(file_name):\n",
    "    \n",
    "    file_contents = read_text_file(file_name)\n",
    "    str_data = \"\"\n",
    "    str_data = str_data + convert_content(file_contents)  \n",
    "    file_name = file_name.replace(\".vtt\",\".srt\")\n",
    "    print(file_name)\n",
    "    file_create(file_name, str_data)\n",
    "    \n",
    "# \n",
    "    \n",
    "def get_mp4_url(lesson_url):\n",
    "    \n",
    "    if lesson_url not in browser.driver.current_url:\n",
    "        browser.visit(homepage+lesson_url)\n",
    "        time.sleep(loading_time)\n",
    "        print('video playing will be paused in ' + str(loading_time) + ' seconds...')\n",
    "        time.sleep(loading_time)\n",
    "    try:\n",
    "        browser.find_by_css('span.cif-2x.cif-fw.cif-pause').click()\n",
    "    except:\n",
    "        time.sleep(loading_time)\n",
    "        try:\n",
    "            browser.find_by_css('span.cif-2x.cif-fw.cif-pause').click()\n",
    "        except:\n",
    "            pass\n",
    "        pass\n",
    "    mp4 = browser.find_by_tag('video').find_by_tag('source')['src']\n",
    "    mp4 = mp4.replace('360p/',resolution[chosen_res]+'p/')\n",
    "    return mp4\n",
    "\n",
    "def get_vtt_url(lesson_url):\n",
    "    if lesson_url not in browser.driver.current_url:\n",
    "        browser.visit(homepage+lesson_url)\n",
    "        time.sleep(loading_time)\n",
    "    element = browser.find_by_css('li.rc-SubtitleDownloadItem.resource-list-item')\n",
    "    vtt = BeautifulSoup(element.html, 'lxml').findAll('a')[0]['href']\n",
    "    vtt = homepage + vtt\n",
    "    return vtt"
   ]
  },
  {
   "cell_type": "code",
   "execution_count": null,
   "metadata": {},
   "outputs": [],
   "source": [
    "def vtt_downloader(lesson_id, lesson_title, lesson_url):\n",
    "    \n",
    "    base_filename = lesson_id +'-'+ safe_text(lesson_title)    \n",
    "    file_name = base_filename + '.vtt'\n",
    "    file_exists = os.path.isfile(file_name)\n",
    "\n",
    "    if file_exists:\n",
    "        print('subtitle already downloaded.')\n",
    "    else:\n",
    "        vtt = get_vtt_url(lesson_url)\n",
    "        r = requests.get(vtt)\n",
    "        f = open(file_name, 'w')\n",
    "        f.write(r.text)\n",
    "        f.close()\n",
    "    vtt_to_srt(file_name)\n",
    "        \n",
    "def mp4_downloader(lesson_id, lesson_title, lesson_url):\n",
    "    \n",
    "    mp4 = get_mp4_url(lesson_url)\n",
    "    base_filename = lesson_id +'-'+ safe_text(lesson_title)\n",
    "    file_name = base_filename + '.mp4'\n",
    "\n",
    "    downloaded_size = 0\n",
    "    buffer_size = 1024\n",
    "\n",
    "    print('requesting to download...')\n",
    "    r = requests.get(mp4)\n",
    "    content_length = r.headers['Content-Length']\n",
    "    download_size = int(content_length)\n",
    "    file_exists = os.path.isfile(file_name)\n",
    "    \n",
    "    if file_exists:\n",
    "        \n",
    "        if os.path.getsize(file_name) == download_size:\n",
    "            print('mp4 already downloaded.')\n",
    "            \n",
    "    elif not file_exists:\n",
    "        \n",
    "        if r.status_code == 200:\n",
    "            f = open(file_name, 'wb')\n",
    "            for buffer in r.iter_content(buffer_size):\n",
    "                f.write(buffer)\n",
    "                downloaded_size += buffer_size\n",
    "                status='\\rdownloading...' + file_name + '>>> '\n",
    "                status = status +str(\"{:.2f}\".format(downloaded_size * 100. /download_size))+'%'\n",
    "                sys.stdout.write(status)\n",
    "                sys.stdout.flush()\n",
    "            f.close()\n",
    "        else:\n",
    "            print('please check your connection..')"
   ]
  },
  {
   "cell_type": "code",
   "execution_count": null,
   "metadata": {},
   "outputs": [],
   "source": [
    "def reformat_html(html, page_title):\n",
    "    \n",
    "    # reading\n",
    "    html = html.replace('<div class=\"rc-ItemBox rc-ReadingItem\"><div class=\"item-box-content\"><div>',\n",
    "                  '<div class=\"rc-ItemBox rc-ReadingItem\"><div class=\"item-box-content\"><div> <h2 class=\"flex-1 align-self-center headline-4-text\">'+page_title+'</h2>')\n",
    "\n",
    "    html = html.replace('<div class=\"Box_120drhm-o_O-endJustify_b0g9ud-o_O-displayflex_poyjc\" style=\"margin: 60px -60px -60px; border-top: 1px solid rgb(221, 221, 221); padding: 15px;\"><div class=\"rc-ItemFeedback\"><div class=\"rc-ItemFeedbackContent horizontal-box\"><div class=\"rc-Like\"><div class=\"rc-LikeContent\"><div><button class=\"c-button-icon\" aria-pressed=\"false\" aria-label=\"Like\"><i class=\"fa cif-thumbs-o-up\" aria-hidden=\"true\"></i></button></div><span></span></div></div><div class=\"rc-Dislike\"><div class=\"rc-LikeContent\"><div><button class=\"c-button-icon\" aria-pressed=\"false\" aria-label=\"Dislike\"><i class=\"cif-thumbs-o-down\" aria-hidden=\"true\"></i></button></div><span></span></div></div><div class=\"rc-Flag\"><div class=\"rc-FlagContent\"><div><button class=\"c-button-icon\" aria-pressed=\"false\" aria-label=\"Report problem\"><i class=\"cif-flag-o\" aria-hidden=\"true\"></i></button></div><span></span></div></div></div></div></div></div></div>',\n",
    "                        '')\n",
    "    \n",
    "    return html    \n",
    "    \n",
    "def reformat_html_quiz(html, page_title):    \n",
    "    # quiz\n",
    "    html = html.replace('<div class=\"header-back-arrow\"><button class=\"back nostyle\" role=\"button\" tabindex=\"0\"><i class=\"cif-back headline-2-text\"></i><span class=\"screenreader-only\">Back</span></button></div>',\n",
    "                        '')\n",
    "    html = html.replace('<div data-rc=\"ItemFeedback\" class=\"c-quiz-item-feedback\"><div data-reactroot=\"\" class=\"rc-ItemFeedback\"><div class=\"rc-ItemFeedbackContent horizontal-box\"><div class=\"rc-Like\"><div class=\"rc-LikeContent\"><div><button class=\"c-button-icon\" aria-pressed=\"false\" aria-label=\"Like\"><i class=\"fa cif-thumbs-o-up\" aria-hidden=\"true\"></i></button></div><span></span></div></div><div class=\"rc-Dislike\"><div class=\"rc-LikeContent\"><div><button class=\"c-button-icon\" aria-pressed=\"false\" aria-label=\"Dislike\"><i class=\"cif-thumbs-o-down\" aria-hidden=\"true\"></i></button></div><span></span></div></div><div class=\"rc-Flag\"><div class=\"rc-FlagContent\"><div><button class=\"c-button-icon\" aria-pressed=\"false\" aria-label=\"Report problem\"><i class=\"cif-flag-o\" aria-hidden=\"true\"></i></button></div><span></span></div></div></div></div></div>',\n",
    "                        '')\n",
    "    \n",
    "    return html\n",
    "\n",
    "def write_html(base_filename, html):\n",
    "    \n",
    "    html = reformat_html(html, base_filename)\n",
    "    file_name = base_filename + '.html'\n",
    "    f = open(file_name, 'w')\n",
    "    html = '<html><head><link href=\"https://d3njjcbhbojbot.cloudfront.net/webapps/builds/ondemand/app.07c9f4ac0583c6e2d2d1.css\" rel=\"stylesheet\"></head><body>'+html+'</body></html>'\n",
    "    f.write(html)\n",
    "    f.close()\n",
    "    \n",
    "def write_html_quiz(base_filename, html):\n",
    "    \n",
    "    html = reformat_html_quiz(html, base_filename)\n",
    "    file_name = base_filename + '.html'\n",
    "    f = open(file_name, 'w')\n",
    "    html = '<html><head><link href=\"https://d3njjcbhbojbot.cloudfront.net/webapps/builds/ondemand/app.07c9f4ac0583c6e2d2d1.css\" rel=\"stylesheet\"></head><body>'+html+'</body></html>'\n",
    "    f.write(html)\n",
    "    f.close()\n",
    "    \n",
    "def quiz_downloader(lesson_id, lesson_title, lesson_url):\n",
    "    \n",
    "    if lesson_url not in browser.driver.current_url:\n",
    "        browser.visit(homepage+lesson_url)\n",
    "        time.sleep(loading_time)\n",
    "        \n",
    "    try:\n",
    "        buttons = browser.find_by_css('button')\n",
    "        for button in buttons:\n",
    "            if(button.text) == 'Continue':\n",
    "                print(button.text)\n",
    "                button.click()    \n",
    "    except:\n",
    "        pass\n",
    "    \n",
    "    try:\n",
    "        time.sleep(loading_time)\n",
    "        buttons = browser.find_by_css('button')\n",
    "        for button in buttons:\n",
    "            if(button.text) == 'Start' or button.text == 'Resume':\n",
    "                print(button.text)\n",
    "                button.click()\n",
    "                break\n",
    "        try:\n",
    "            time.sleep(loading_time)\n",
    "            html = browser.find_by_css('div.rc-FullscreenLayoutHandler').html\n",
    "            print('got quiz item')\n",
    "            base_filename = lesson_id +'-'+ safe_text(lesson_title)\n",
    "            write_html_quiz(base_filename, html)\n",
    "        except:\n",
    "            print('no quiz content scraped.')\n",
    "            pass\n",
    "    except:\n",
    "        print('something wrong...')\n",
    "        html ='no quiz content scraped.'\n",
    "        pass\n",
    "    \n",
    "\n",
    "    \n",
    "def html_downloader(lesson_id, lesson_title, lesson_url):\n",
    "    \n",
    "    if lesson_url not in browser.driver.current_url:\n",
    "        browser.visit(homepage+lesson_url)\n",
    "        time.sleep(loading_time)\n",
    "        \n",
    "    try:\n",
    "        html = browser.find_by_css('div.item-page-content').html\n",
    "        print('got reading item')\n",
    "    except:\n",
    "        html ='no content scraped.'\n",
    "        pass\n",
    "    \n",
    "    base_filename = lesson_id +'-'+ safe_text(lesson_title)\n",
    "    write_html(base_filename, html)\n",
    "    \n",
    "    return\n",
    "\n",
    "def check_html_reading(lesson_id, lesson_title, lesson_url):\n",
    "    \n",
    "    base_filename = lesson_id +'-'+ safe_text(lesson_title)\n",
    "    file_name = base_filename + '.html'\n",
    "    \n",
    "    file_exists = os.path.isfile(file_name)\n",
    "    if file_exists:\n",
    "        print('html already downloaded.')\n",
    "    else:\n",
    "        html_downloader(lesson_id, lesson_title, lesson_url)"
   ]
  },
  {
   "cell_type": "markdown",
   "metadata": {},
   "source": [
    "## C. Coursera\n",
    "\n",
    "### Login Page"
   ]
  },
  {
   "cell_type": "code",
   "execution_count": null,
   "metadata": {},
   "outputs": [],
   "source": [
    "browser = Browser('firefox', headless = True)"
   ]
  },
  {
   "cell_type": "code",
   "execution_count": null,
   "metadata": {
    "scrolled": true
   },
   "outputs": [],
   "source": [
    "browser.visit('https://www.coursera.org/?authMode=login')\n",
    "screenshot()"
   ]
  },
  {
   "cell_type": "markdown",
   "metadata": {},
   "source": [
    "### Insert Login Credential"
   ]
  },
  {
   "cell_type": "code",
   "execution_count": null,
   "metadata": {},
   "outputs": [],
   "source": [
    "#reset_credential() #uncomment to reset \n",
    "username, password = get_credential()"
   ]
  },
  {
   "cell_type": "code",
   "execution_count": null,
   "metadata": {},
   "outputs": [],
   "source": [
    "browser.visit('https://www.coursera.org/courses?authMode=login')"
   ]
  },
  {
   "cell_type": "code",
   "execution_count": null,
   "metadata": {},
   "outputs": [],
   "source": [
    "browser.fill('email', username)\n",
    "browser.fill('password', password)"
   ]
  },
  {
   "cell_type": "code",
   "execution_count": null,
   "metadata": {},
   "outputs": [],
   "source": [
    "screenshot()"
   ]
  },
  {
   "cell_type": "code",
   "execution_count": null,
   "metadata": {},
   "outputs": [],
   "source": [
    "buttons = browser.find_by_tag('button')\n",
    "for button in buttons:\n",
    "    if (button.text == 'Log in'):\n",
    "        button.click()\n",
    "        break"
   ]
  },
  {
   "cell_type": "markdown",
   "metadata": {},
   "source": [
    "### LAST ACTIVE COURSES"
   ]
  },
  {
   "cell_type": "code",
   "execution_count": null,
   "metadata": {},
   "outputs": [],
   "source": [
    "browser.visit(homepage)\n",
    "section = browser.find_by_tag('section')\n",
    "titles = []\n",
    "\n",
    "for s in section:\n",
    "    title = s.find_by_tag('h4').text\n",
    "    titles.append(title)"
   ]
  },
  {
   "cell_type": "code",
   "execution_count": null,
   "metadata": {},
   "outputs": [],
   "source": [
    "screenshot()"
   ]
  },
  {
   "cell_type": "markdown",
   "metadata": {},
   "source": [
    "### PICK ONE OF THE COURSES"
   ]
  },
  {
   "cell_type": "markdown",
   "metadata": {
    "variables": {
     "len(titles)": "13"
    }
   },
   "source": [
    "There are {{len(titles)}} courses visible in this section you can pick to download."
   ]
  },
  {
   "cell_type": "code",
   "execution_count": null,
   "metadata": {},
   "outputs": [],
   "source": [
    "for i, title in enumerate(titles):\n",
    "    print(i+1, title)\n",
    "try:\n",
    "    chosen_course = int(input('Choose a course number from [1] to ['+ str(len(titles))+']:\\n'))\n",
    "except:\n",
    "    chosen_course = 1\n",
    "course_title = titles[chosen_course-1]\n",
    "print('>> You choose:\\n'+course_title)"
   ]
  },
  {
   "cell_type": "code",
   "execution_count": null,
   "metadata": {},
   "outputs": [],
   "source": [
    "section[chosen_course-1].click()\n",
    "create_download_dir(course_title)"
   ]
  },
  {
   "cell_type": "markdown",
   "metadata": {
    "variables": {
     " titles[chosen_course-1] ": "How to Win a Data Science Competition: Learn from Top Kagglers",
     "-titles[chosen_course-1]-": "<p><strong>SyntaxError</strong>: invalid syntax (<ipython-input-245-f2678fc1f121>, line 1)</p>\n"
    }
   },
   "source": [
    " ### {{ titles[chosen_course-1] }}"
   ]
  },
  {
   "cell_type": "code",
   "execution_count": null,
   "metadata": {},
   "outputs": [],
   "source": [
    "screenshot()"
   ]
  },
  {
   "cell_type": "code",
   "execution_count": null,
   "metadata": {},
   "outputs": [],
   "source": [
    "lecture_homepage = browser.driver.current_url"
   ]
  },
  {
   "cell_type": "markdown",
   "metadata": {},
   "source": [
    "#### Enumerate Weeks"
   ]
  },
  {
   "cell_type": "code",
   "execution_count": null,
   "metadata": {},
   "outputs": [],
   "source": [
    "week = browser.find_by_css('div.rc-WeekCollectionNavigationItem > div')\n",
    "anchors = BeautifulSoup(week.html, 'lxml').findAll('a', attrs={})\n",
    "weeks = []\n",
    "for a in anchors:\n",
    "    weeks.append(a['href'])\n",
    "\n",
    "weeks, len(weeks)"
   ]
  },
  {
   "cell_type": "markdown",
   "metadata": {},
   "source": [
    "#### Enumerate Module Lessons"
   ]
  },
  {
   "cell_type": "code",
   "execution_count": null,
   "metadata": {},
   "outputs": [],
   "source": [
    "lessons_i = []\n",
    "lessons_t = []\n",
    "lessons_u = []\n",
    "    \n",
    "for w in range(len(weeks)):\n",
    "    \n",
    "    print('collecting lessons title and urls...\\n')    \n",
    "    browser.visit(homepage + weeks[w])\n",
    "    time.sleep(loading_time)\n",
    "    w = w+1\n",
    "    \n",
    "    print('\\nVisiting week: ' + str(w))\n",
    "    time.sleep(loading_time)\n",
    "    module_lessons = browser.find_by_css('div.rc-ModuleLessons')\n",
    "    print()\n",
    "    print('Week '+str(w)+' titles:')\n",
    "    seq = 0\n",
    "    for i, module_lesson in enumerate(module_lessons):\n",
    "\n",
    "        lessons_title = module_lesson.find_by_tag('h5')\n",
    "\n",
    "        for j, l in enumerate(lessons_title):\n",
    "            seq  += 1\n",
    "            lesson_id = str(w*100+seq).zfill(3)\n",
    "            title = l.text.replace('\\n',' ')\n",
    "            print(lesson_id, title)\n",
    "            title = safe_text(title)\n",
    "            lessons_t.append(title)\n",
    "            lessons_i.append(lesson_id)\n",
    "    \n",
    "    print()\n",
    "    print('Week '+str(w)+' links:')    \n",
    "    seq = 0\n",
    "\n",
    "    for i, module_lesson in enumerate(module_lessons):\n",
    "\n",
    "        lessons_url = module_lesson.find_by_tag('ul')\n",
    "    \n",
    "        for j, e in enumerate(lessons_url):\n",
    "            anchors = BeautifulSoup(e.html, 'lxml').findAll('a')\n",
    "            for k, a in enumerate(anchors):\n",
    "                seq += 1\n",
    "                lesson_id = str(w*100+seq).zfill(3)\n",
    "                lesson_url = a['href']\n",
    "                print(lesson_id, lesson_url)\n",
    "                lessons_u.append(lesson_url)\n",
    "           \n",
    "    print()"
   ]
  },
  {
   "cell_type": "markdown",
   "metadata": {},
   "source": [
    "### Download Lecture Videos and Readings"
   ]
  },
  {
   "cell_type": "markdown",
   "metadata": {},
   "source": [
    "See the progress of downloading lecture videos, readings and quizzes."
   ]
  },
  {
   "cell_type": "code",
   "execution_count": null,
   "metadata": {},
   "outputs": [],
   "source": [
    "os.chdir(initial_dirname)\n",
    "os.chdir(safe_text(course_title))\n",
    "lessons = zip(lessons_i, lessons_t, lessons_u)\n",
    "for a,b,c in lessons:\n",
    "    print(a,b)\n",
    "    first_word = b.split(' ')[0]\n",
    "    \n",
    "    if 'Lecture' in first_word:\n",
    "        mp4_downloader(a,b,c)\n",
    "        vtt_downloader(a,b,c)\n",
    "        print()\n",
    "        \n",
    "    elif 'Reading' in first_word:\n",
    "        check_html_reading(a, b, c)\n",
    "        print()\n",
    "        \n",
    "    elif ('Quiz' in first_word) or ('Practice Quiz' in b):\n",
    "        quiz_downloader(a, b, c)\n",
    "        print()\n",
    "    \n",
    "    else:\n",
    "        print('no resource to download.')\n",
    "        \n",
    "    print()\n",
    "print('Resources downloaded to:\\n'+os.getcwd())\n",
    "os.chdir(initial_dirname)"
   ]
  },
  {
   "cell_type": "code",
   "execution_count": null,
   "metadata": {},
   "outputs": [],
   "source": [
    "screenshot()"
   ]
  },
  {
   "cell_type": "markdown",
   "metadata": {},
   "source": [
    "## Screenshot Checking\n",
    "\n",
    "In case of an error, you may want to check the screenshot. Here is an example:"
   ]
  },
  {
   "cell_type": "code",
   "execution_count": null,
   "metadata": {},
   "outputs": [],
   "source": [
    "screenshot()"
   ]
  },
  {
   "cell_type": "markdown",
   "metadata": {},
   "source": [
    "## Manually Calling `mp4_downloader` or `quiz_downloader`"
   ]
  },
  {
   "cell_type": "markdown",
   "metadata": {},
   "source": [
    "**`mp4_downloader`** \n",
    "\n",
    "usage example:\n",
    "\n",
    "```\n",
    "mp4_downloader('201',\n",
    "               'Lecture Driving Robots Around?', \n",
    "               '/learn/mobile-robot/lecture/4HvCW/driving-robots-around')\n",
    "```\n",
    "`201` means week `2` sequence number `01` which is a lecture\n",
    "\n",
    "\n",
    "**`quiz_downloader`** \n",
    "\n",
    "usage example:\n",
    "```\n",
    "quiz_downloader('406',\n",
    "               'Practice Quiz Practice quiz', \n",
    "               '/learn/competitive-data-science/quiz/k7xTP/practice-quiz')               \n",
    "````\n",
    "`406` means week `4` sequence number `06` which is a quiz"
   ]
  },
  {
   "cell_type": "markdown",
   "metadata": {},
   "source": [
    "## Close Browser After Download"
   ]
  },
  {
   "cell_type": "code",
   "execution_count": null,
   "metadata": {},
   "outputs": [],
   "source": [
    "browser.quit()"
   ]
  },
  {
   "cell_type": "code",
   "execution_count": null,
   "metadata": {},
   "outputs": [],
   "source": [
    "os.chdir(initial_dirname)\n",
    "os.getcwd()"
   ]
  }
 ],
 "metadata": {
  "kernelspec": {
   "display_name": "Python 3",
   "language": "python",
   "name": "python3"
  },
  "language_info": {
   "codemirror_mode": {
    "name": "ipython",
    "version": 3
   },
   "file_extension": ".py",
   "mimetype": "text/x-python",
   "name": "python",
   "nbconvert_exporter": "python",
   "pygments_lexer": "ipython3",
   "version": "3.6.4"
  }
 },
 "nbformat": 4,
 "nbformat_minor": 2
}
